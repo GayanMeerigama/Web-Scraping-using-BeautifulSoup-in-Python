{
 "cells": [
  {
   "cell_type": "code",
   "execution_count": 15,
   "id": "d852500e",
   "metadata": {},
   "outputs": [
    {
     "name": "stdout",
     "output_type": "stream",
     "text": [
      "CHROME >= 115.0.5763.0, using mac-x64 as architecture identifier\n"
     ]
    },
    {
     "data": {
      "text/plain": [
       "'/Users/gayanmeerigama/opt/anaconda3/lib/python3.9/site-packages/chromedriver_autoinstaller/116/chromedriver'"
      ]
     },
     "execution_count": 15,
     "metadata": {},
     "output_type": "execute_result"
    }
   ],
   "source": [
    "import chromedriver_autoinstaller as chromedriver\n",
    "chromedriver.install()"
   ]
  },
  {
   "cell_type": "code",
   "execution_count": 16,
   "id": "17088d38",
   "metadata": {},
   "outputs": [],
   "source": [
    "from splinter import Browser\n",
    "from bs4 import BeautifulSoup\n",
    "\n",
    "browser=Browser('chrome')"
   ]
  },
  {
   "cell_type": "code",
   "execution_count": 17,
   "id": "c694830c",
   "metadata": {},
   "outputs": [],
   "source": [
    "# Visit the URL\n",
    "\n",
    "base_url = 'https://speedypaper.com/essays?rt=Lelm38WZ'\n",
    "browser.visit(base_url)\n",
    "\n",
    "# Parse the HTML\n",
    "html = browser.html\n",
    "soup = BeautifulSoup(html, 'html.parser')"
   ]
  },
  {
   "cell_type": "code",
   "execution_count": 18,
   "id": "f0cc581b",
   "metadata": {},
   "outputs": [],
   "source": [
    "# Extract and store the links for each of the essay \n",
    "urls = []\n",
    "\n",
    "for link in soup.find_all(\"a\", class_='category-preview-template__link'):\n",
    "    links=link.get(\"href\")\n",
    "    urls.append(links)"
   ]
  },
  {
   "cell_type": "code",
   "execution_count": 19,
   "id": "c80b4bd4",
   "metadata": {
    "scrolled": true
   },
   "outputs": [
    {
     "data": {
      "text/plain": [
       "549"
      ]
     },
     "execution_count": 19,
     "metadata": {},
     "output_type": "execute_result"
    }
   ],
   "source": [
    "len(urls)"
   ]
  },
  {
   "cell_type": "code",
   "execution_count": 20,
   "id": "6962efd6",
   "metadata": {},
   "outputs": [],
   "source": [
    "import numpy as np\n",
    "\n",
    "my_array = np.asarray(urls)"
   ]
  },
  {
   "cell_type": "code",
   "execution_count": 21,
   "id": "84c144c5",
   "metadata": {
    "scrolled": true
   },
   "outputs": [
    {
     "ename": "NoSuchWindowException",
     "evalue": "Message: no such window: target window already closed\nfrom unknown error: web view not found\n  (Session info: chrome=116.0.5845.96)\nStacktrace:\n0   chromedriver                        0x000000010a8c7638 chromedriver + 5002808\n1   chromedriver                        0x000000010a8bea53 chromedriver + 4966995\n2   chromedriver                        0x000000010a46fa57 chromedriver + 449111\n3   chromedriver                        0x000000010a4428a1 chromedriver + 264353\n4   chromedriver                        0x000000010a4e176f chromedriver + 915311\n5   chromedriver                        0x000000010a4f6976 chromedriver + 1001846\n6   chromedriver                        0x000000010a4dc1c3 chromedriver + 893379\n7   chromedriver                        0x000000010a4a7df9 chromedriver + 679417\n8   chromedriver                        0x000000010a4a8fde chromedriver + 683998\n9   chromedriver                        0x000000010a8842d9 chromedriver + 4727513\n10  chromedriver                        0x000000010a8892de chromedriver + 4747998\n11  chromedriver                        0x000000010a8472c9 chromedriver + 4477641\n12  chromedriver                        0x000000010a88a02d chromedriver + 4751405\n13  chromedriver                        0x000000010a85d0ec chromedriver + 4567276\n14  chromedriver                        0x000000010a8a77f8 chromedriver + 4872184\n15  chromedriver                        0x000000010a8a79b7 chromedriver + 4872631\n16  chromedriver                        0x000000010a8b7a1f chromedriver + 4938271\n17  libsystem_pthread.dylib             0x00007ff8196d51d3 _pthread_start + 125\n18  libsystem_pthread.dylib             0x00007ff8196d0bd3 thread_start + 15\n",
     "output_type": "error",
     "traceback": [
      "\u001b[0;31m---------------------------------------------------------------------------\u001b[0m",
      "\u001b[0;31mNoSuchWindowException\u001b[0m                     Traceback (most recent call last)",
      "Cell \u001b[0;32mIn[21], line 6\u001b[0m\n\u001b[1;32m      4\u001b[0m combined_url \u001b[38;5;241m=\u001b[39m \u001b[38;5;124mf\u001b[39m\u001b[38;5;124m\"\u001b[39m\u001b[38;5;132;01m{\u001b[39;00mmy_array[i]\u001b[38;5;132;01m}\u001b[39;00m\u001b[38;5;124m\"\u001b[39m\n\u001b[1;32m      5\u001b[0m browser\u001b[38;5;241m.\u001b[39mvisit(combined_url)\n\u001b[0;32m----> 6\u001b[0m html \u001b[38;5;241m=\u001b[39m \u001b[43mbrowser\u001b[49m\u001b[38;5;241;43m.\u001b[39;49m\u001b[43mhtml\u001b[49m\n\u001b[1;32m      7\u001b[0m soup \u001b[38;5;241m=\u001b[39m BeautifulSoup(html, \u001b[38;5;124m'\u001b[39m\u001b[38;5;124mhtml.parser\u001b[39m\u001b[38;5;124m'\u001b[39m)\n\u001b[1;32m     10\u001b[0m \u001b[38;5;28;01mfor\u001b[39;00m link \u001b[38;5;129;01min\u001b[39;00m soup\u001b[38;5;241m.\u001b[39mfind_all(\u001b[38;5;124m\"\u001b[39m\u001b[38;5;124ma\u001b[39m\u001b[38;5;124m\"\u001b[39m, class_\u001b[38;5;241m=\u001b[39m\u001b[38;5;124m'\u001b[39m\u001b[38;5;124messays-list-by-category-item__main-info__wrapper\u001b[39m\u001b[38;5;124m'\u001b[39m):\n",
      "File \u001b[0;32m~/opt/anaconda3/lib/python3.9/site-packages/splinter/driver/webdriver/__init__.py:312\u001b[0m, in \u001b[0;36mBaseWebDriver.html\u001b[0;34m(self)\u001b[0m\n\u001b[1;32m    310\u001b[0m \u001b[38;5;129m@property\u001b[39m\n\u001b[1;32m    311\u001b[0m \u001b[38;5;28;01mdef\u001b[39;00m \u001b[38;5;21mhtml\u001b[39m(\u001b[38;5;28mself\u001b[39m):\n\u001b[0;32m--> 312\u001b[0m     \u001b[38;5;28;01mreturn\u001b[39;00m \u001b[38;5;28;43mself\u001b[39;49m\u001b[38;5;241;43m.\u001b[39;49m\u001b[43mdriver\u001b[49m\u001b[38;5;241;43m.\u001b[39;49m\u001b[43mpage_source\u001b[49m\n",
      "File \u001b[0;32m~/opt/anaconda3/lib/python3.9/site-packages/selenium/webdriver/remote/webdriver.py:932\u001b[0m, in \u001b[0;36mWebDriver.page_source\u001b[0;34m(self)\u001b[0m\n\u001b[1;32m    922\u001b[0m \u001b[38;5;129m@property\u001b[39m\n\u001b[1;32m    923\u001b[0m \u001b[38;5;28;01mdef\u001b[39;00m \u001b[38;5;21mpage_source\u001b[39m(\u001b[38;5;28mself\u001b[39m) \u001b[38;5;241m-\u001b[39m\u001b[38;5;241m>\u001b[39m \u001b[38;5;28mstr\u001b[39m:\n\u001b[1;32m    924\u001b[0m     \u001b[38;5;124;03m\"\"\"\u001b[39;00m\n\u001b[1;32m    925\u001b[0m \u001b[38;5;124;03m    Gets the source of the current page.\u001b[39;00m\n\u001b[1;32m    926\u001b[0m \n\u001b[0;32m   (...)\u001b[0m\n\u001b[1;32m    930\u001b[0m \u001b[38;5;124;03m            driver.page_source\u001b[39;00m\n\u001b[1;32m    931\u001b[0m \u001b[38;5;124;03m    \"\"\"\u001b[39;00m\n\u001b[0;32m--> 932\u001b[0m     \u001b[38;5;28;01mreturn\u001b[39;00m \u001b[38;5;28;43mself\u001b[39;49m\u001b[38;5;241;43m.\u001b[39;49m\u001b[43mexecute\u001b[49m\u001b[43m(\u001b[49m\u001b[43mCommand\u001b[49m\u001b[38;5;241;43m.\u001b[39;49m\u001b[43mGET_PAGE_SOURCE\u001b[49m\u001b[43m)\u001b[49m[\u001b[38;5;124m'\u001b[39m\u001b[38;5;124mvalue\u001b[39m\u001b[38;5;124m'\u001b[39m]\n",
      "File \u001b[0;32m~/opt/anaconda3/lib/python3.9/site-packages/selenium/webdriver/remote/webdriver.py:430\u001b[0m, in \u001b[0;36mWebDriver.execute\u001b[0;34m(self, driver_command, params)\u001b[0m\n\u001b[1;32m    428\u001b[0m response \u001b[38;5;241m=\u001b[39m \u001b[38;5;28mself\u001b[39m\u001b[38;5;241m.\u001b[39mcommand_executor\u001b[38;5;241m.\u001b[39mexecute(driver_command, params)\n\u001b[1;32m    429\u001b[0m \u001b[38;5;28;01mif\u001b[39;00m response:\n\u001b[0;32m--> 430\u001b[0m     \u001b[38;5;28;43mself\u001b[39;49m\u001b[38;5;241;43m.\u001b[39;49m\u001b[43merror_handler\u001b[49m\u001b[38;5;241;43m.\u001b[39;49m\u001b[43mcheck_response\u001b[49m\u001b[43m(\u001b[49m\u001b[43mresponse\u001b[49m\u001b[43m)\u001b[49m\n\u001b[1;32m    431\u001b[0m     response[\u001b[38;5;124m'\u001b[39m\u001b[38;5;124mvalue\u001b[39m\u001b[38;5;124m'\u001b[39m] \u001b[38;5;241m=\u001b[39m \u001b[38;5;28mself\u001b[39m\u001b[38;5;241m.\u001b[39m_unwrap_value(\n\u001b[1;32m    432\u001b[0m         response\u001b[38;5;241m.\u001b[39mget(\u001b[38;5;124m'\u001b[39m\u001b[38;5;124mvalue\u001b[39m\u001b[38;5;124m'\u001b[39m, \u001b[38;5;28;01mNone\u001b[39;00m))\n\u001b[1;32m    433\u001b[0m     \u001b[38;5;28;01mreturn\u001b[39;00m response\n",
      "File \u001b[0;32m~/opt/anaconda3/lib/python3.9/site-packages/selenium/webdriver/remote/errorhandler.py:247\u001b[0m, in \u001b[0;36mErrorHandler.check_response\u001b[0;34m(self, response)\u001b[0m\n\u001b[1;32m    245\u001b[0m         alert_text \u001b[38;5;241m=\u001b[39m value[\u001b[38;5;124m'\u001b[39m\u001b[38;5;124malert\u001b[39m\u001b[38;5;124m'\u001b[39m]\u001b[38;5;241m.\u001b[39mget(\u001b[38;5;124m'\u001b[39m\u001b[38;5;124mtext\u001b[39m\u001b[38;5;124m'\u001b[39m)\n\u001b[1;32m    246\u001b[0m     \u001b[38;5;28;01mraise\u001b[39;00m exception_class(message, screen, stacktrace, alert_text)  \u001b[38;5;66;03m# type: ignore[call-arg]  # mypy is not smart enough here\u001b[39;00m\n\u001b[0;32m--> 247\u001b[0m \u001b[38;5;28;01mraise\u001b[39;00m exception_class(message, screen, stacktrace)\n",
      "\u001b[0;31mNoSuchWindowException\u001b[0m: Message: no such window: target window already closed\nfrom unknown error: web view not found\n  (Session info: chrome=116.0.5845.96)\nStacktrace:\n0   chromedriver                        0x000000010a8c7638 chromedriver + 5002808\n1   chromedriver                        0x000000010a8bea53 chromedriver + 4966995\n2   chromedriver                        0x000000010a46fa57 chromedriver + 449111\n3   chromedriver                        0x000000010a4428a1 chromedriver + 264353\n4   chromedriver                        0x000000010a4e176f chromedriver + 915311\n5   chromedriver                        0x000000010a4f6976 chromedriver + 1001846\n6   chromedriver                        0x000000010a4dc1c3 chromedriver + 893379\n7   chromedriver                        0x000000010a4a7df9 chromedriver + 679417\n8   chromedriver                        0x000000010a4a8fde chromedriver + 683998\n9   chromedriver                        0x000000010a8842d9 chromedriver + 4727513\n10  chromedriver                        0x000000010a8892de chromedriver + 4747998\n11  chromedriver                        0x000000010a8472c9 chromedriver + 4477641\n12  chromedriver                        0x000000010a88a02d chromedriver + 4751405\n13  chromedriver                        0x000000010a85d0ec chromedriver + 4567276\n14  chromedriver                        0x000000010a8a77f8 chromedriver + 4872184\n15  chromedriver                        0x000000010a8a79b7 chromedriver + 4872631\n16  chromedriver                        0x000000010a8b7a1f chromedriver + 4938271\n17  libsystem_pthread.dylib             0x00007ff8196d51d3 _pthread_start + 125\n18  libsystem_pthread.dylib             0x00007ff8196d0bd3 thread_start + 15\n"
     ]
    }
   ],
   "source": [
    "urls_1 = []\n",
    "for i in range(len(my_array)):\n",
    "\n",
    "    combined_url = f\"{my_array[i]}\"\n",
    "    browser.visit(combined_url)\n",
    "    html = browser.html\n",
    "    soup = BeautifulSoup(html, 'html.parser')\n",
    "\n",
    "  \n",
    "    for link in soup.find_all(\"a\", class_='essays-list-by-category-item__main-info__wrapper'):\n",
    "        links=link.get(\"href\")\n",
    "        urls_1.append(links)\n",
    "\n"
   ]
  },
  {
   "cell_type": "code",
   "execution_count": null,
   "id": "69fe244b",
   "metadata": {
    "scrolled": false
   },
   "outputs": [],
   "source": [
    "len(urls_1)"
   ]
  },
  {
   "cell_type": "code",
   "execution_count": null,
   "id": "68d9cbfd",
   "metadata": {},
   "outputs": [],
   "source": [
    "len(my_array)"
   ]
  },
  {
   "cell_type": "code",
   "execution_count": null,
   "id": "0cc28b5d",
   "metadata": {
    "scrolled": false
   },
   "outputs": [],
   "source": [
    "import numpy as np\n",
    "\n",
    "new_url = np.asarray(urls_1)"
   ]
  },
  {
   "cell_type": "code",
   "execution_count": null,
   "id": "e8f42079",
   "metadata": {
    "scrolled": true
   },
   "outputs": [],
   "source": [
    "len(new_url)"
   ]
  },
  {
   "cell_type": "code",
   "execution_count": null,
   "id": "13a1b5d4",
   "metadata": {},
   "outputs": [],
   "source": [
    "\n",
    "# open file in write mode\n",
    "with open(r'new_url.txt', 'w') as fp:\n",
    "    for item in new_url:\n",
    "        # write each item on a new line\n",
    "        fp.write(\"%s\\n\" % item)\n",
    "    print('Done')"
   ]
  },
  {
   "cell_type": "code",
   "execution_count": null,
   "id": "db5278e6",
   "metadata": {},
   "outputs": [],
   "source": [
    "# empty list to read list from a file\n",
    "urls = []\n",
    "\n",
    "# open file and read the content in a list\n",
    "with open(r'new_url.txt', 'r') as fp:\n",
    "    for line in fp:\n",
    "        # remove linebreak from a current name\n",
    "        # linebreak is the last character of each line\n",
    "        x = line[:-1]\n",
    "\n",
    "        # add current item to the list\n",
    "        urls.append(x)\n",
    "\n",
    "# display list\n",
    "urls"
   ]
  },
  {
   "cell_type": "code",
   "execution_count": null,
   "id": "b769f8da",
   "metadata": {},
   "outputs": [],
   "source": [
    "import numpy as np\n",
    "\n",
    "new_url = np.asarray(urls)"
   ]
  },
  {
   "cell_type": "code",
   "execution_count": null,
   "id": "f8fc7970",
   "metadata": {},
   "outputs": [],
   "source": []
  },
  {
   "cell_type": "code",
   "execution_count": null,
   "id": "cd12f969",
   "metadata": {},
   "outputs": [],
   "source": [
    "from splinter import Browser\n",
    "from bs4 import BeautifulSoup\n",
    "\n",
    "browser=Browser('chrome')"
   ]
  },
  {
   "cell_type": "code",
   "execution_count": null,
   "id": "af0c9fa7",
   "metadata": {},
   "outputs": [],
   "source": [
    "# Parse the HTML\n",
    "html = browser.html\n",
    "soup = BeautifulSoup(html, 'html.parser')"
   ]
  },
  {
   "cell_type": "code",
   "execution_count": null,
   "id": "6c27ec1e",
   "metadata": {
    "scrolled": true
   },
   "outputs": [],
   "source": [
    "text_list = []\n",
    "import time\n",
    "for i in range(len(new_url)):\n",
    "    print(f\"working on page {i}\")\n",
    "    combined_url = f\"{new_url[i]}\"\n",
    "    browser.visit(combined_url)\n",
    "    time.sleep(4)\n",
    "    html = browser.html\n",
    "    quote_soup = soup(html, 'html.parser')\n",
    "    quotes = soup.find(\"div\", { \"class\" : \"single-essay__essay-content__inner\" })\n",
    "    print(\"---------QUOTES-------------\")\n",
    "#    for quote in quotes:\n",
    "#        essay.append(quote)\n",
    "#        print(quote.get_text())\n",
    "#    print(\"----------------------------\")\n",
    "    for p in quotes.find_all('p'):\n",
    "        text_list.append(p.get_text())\n",
    "    "
   ]
  },
  {
   "cell_type": "code",
   "execution_count": null,
   "id": "868c3c9a",
   "metadata": {},
   "outputs": [],
   "source": [
    "text_list"
   ]
  },
  {
   "cell_type": "code",
   "execution_count": null,
   "id": "09983261",
   "metadata": {},
   "outputs": [],
   "source": [
    "import pandas as pd\n",
    "df = pd.DataFrame(text_list)\n",
    "df.to_csv(\"text_list.csv\")"
   ]
  },
  {
   "cell_type": "code",
   "execution_count": null,
   "id": "22546552",
   "metadata": {},
   "outputs": [],
   "source": [
    "browser.quit()"
   ]
  },
  {
   "cell_type": "code",
   "execution_count": null,
   "id": "c4d79c2e",
   "metadata": {},
   "outputs": [],
   "source": []
  },
  {
   "cell_type": "code",
   "execution_count": null,
   "id": "4b539dd2",
   "metadata": {},
   "outputs": [],
   "source": []
  }
 ],
 "metadata": {
  "kernelspec": {
   "display_name": "Python 3 (ipykernel)",
   "language": "python",
   "name": "python3"
  },
  "language_info": {
   "codemirror_mode": {
    "name": "ipython",
    "version": 3
   },
   "file_extension": ".py",
   "mimetype": "text/x-python",
   "name": "python",
   "nbconvert_exporter": "python",
   "pygments_lexer": "ipython3",
   "version": "3.9.13"
  }
 },
 "nbformat": 4,
 "nbformat_minor": 5
}
